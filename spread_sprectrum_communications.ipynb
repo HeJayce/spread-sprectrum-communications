{
 "cells": [
  {
   "cell_type": "code",
   "execution_count": 11,
   "metadata": {},
   "outputs": [],
   "source": [
    "import numpy as np\n",
    "import random\n",
    "import matplotlib.pyplot as plt"
   ]
  },
  {
   "cell_type": "code",
   "execution_count": 12,
   "metadata": {},
   "outputs": [],
   "source": [
    "def information(N):#输入比特流的个数N，输出我们的信号，要么是1，要么是0\n",
    "    signal=np.array([])\n",
    "    for i in range(N):\n",
    "        x=random.randint(0,1)\n",
    "        if x>=0.5:\n",
    "            x=1\n",
    "        else:\n",
    "            x=0\n",
    "        signal=np.insert(signal,len(signal),x*2-1)\n",
    "    return signal"
   ]
  },
  {
   "cell_type": "code",
   "execution_count": 3,
   "metadata": {},
   "outputs": [],
   "source": [
    "def genMseq(b):#b为c0-cn的个数   b0对应Cn，bn对应C0\n",
    "    N=len(b)-1#N指寄存器个数\n",
    "    D=np.ones(N)#寄存器初始状态全1\n",
    "    A=b[N-1::-1]\n",
    "    #print(A)\n",
    "    c=np.array([])\n",
    "    for i in range((2**N)-1): #循环\n",
    "        c1=(np.dot(D,A))%2#点乘求和，并与2求余数\n",
    "        #print(c1)\n",
    "        c=np.insert(c,len(c),D[N-1])\n",
    "        D=D[0:N-1]\n",
    "        D=np.insert(D,0,c1)\n",
    "        #print(D)\n",
    "    for i in range(len(c)):\n",
    "        c[i]=int(c[i]*2-1)\n",
    "    return c"
   ]
  },
  {
   "cell_type": "code",
   "execution_count": 4,
   "metadata": {},
   "outputs": [],
   "source": [
    "def dsss(signal,c):\n",
    "    ssignal=np.array([])\n",
    "    for i in range(len(signal)):\n",
    "        ssignal=np.insert(ssignal,len(ssignal),signal[i]*c)\n",
    "    return ssignal "
   ]
  },
  {
   "cell_type": "code",
   "execution_count": 5,
   "metadata": {},
   "outputs": [],
   "source": [
    "def modu(signal,dataRate,fc,fs):#dataRate符号周期 fc载波频率 fs采样频率    Tb=1/dataRate\n",
    "    t=np.linspace(0,1/dataRate,int(fs/dataRate))\n",
    "    carrier=np.array([])\n",
    "    carrier=np.insert(carrier,len(carrier),np.cos(2*(np.pi)*fc*t))\n",
    "    #print(carrier)\n",
    "    modusignal=np.array([])\n",
    "    for i in range(len(signal)):\n",
    "        modusignal=np.insert(modusignal,len(modusignal),signal[i]*carrier)\n",
    "    return modusignal"
   ]
  },
  {
   "cell_type": "code",
   "execution_count": 6,
   "metadata": {},
   "outputs": [],
   "source": [
    "def awgn(x, snr):\n",
    "    snr = 10**(snr/10.0)\n",
    "    xpower = np.sum(x**2)/len(x)\n",
    "    npower = xpower/snr\n",
    "    return np.random.randn(len(x)) * np.sqrt(npower)+x"
   ]
  },
  {
   "cell_type": "code",
   "execution_count": 7,
   "metadata": {},
   "outputs": [],
   "source": [
    "#解扩\n",
    "def dedsss(receiveSignal,c,chipRate,fs):\n",
    "    L=int(fs/chipRate)#16\n",
    "    c1=np.array([])\n",
    "    a=np.ones(L)\n",
    "    for i in range(len(c)):\n",
    "        c1=np.insert(c1,len(c1),c[i]*a)\n",
    "    dessignal=np.array([])\n",
    "    for i in range(0,len(receiveSignal),len(c1)):\n",
    "        h=receiveSignal[i:i+len(c1)]\n",
    "        dessignal=np.insert(dessignal,len(dessignal),h*c1)\n",
    "    return dessignal"
   ]
  },
  {
   "cell_type": "code",
   "execution_count": 8,
   "metadata": {},
   "outputs": [],
   "source": [
    "def demodu(Resignal,datarate,fc,fs):\n",
    "    t=np.linspace(0,1/datarate,int(fs/datarate))\n",
    "    carrier=np.array([])\n",
    "    carrier=np.insert(carrier,len(carrier),np.cos(2*(np.pi)*fc*t))\n",
    "    Lc=len(carrier)\n",
    "    Ls=len(Resignal)\n",
    "    designal=np.array([])\n",
    "    for i in range(0,Ls,Lc):\n",
    "        h=Resignal[i:i+Lc]\n",
    "        designal=np.insert(designal,len(designal),h*carrier)\n",
    "    demoSignal=np.array([])\n",
    "    sum=0\n",
    "    for i in range(0,Ls,Lc):\n",
    "        threshold=np.sum(designal[i:i + Lc - 1])\n",
    "        if threshold>0:\n",
    "            tt=1\n",
    "        else:\n",
    "            tt=-1\n",
    "        demoSignal=np.insert(demoSignal,len(demoSignal),tt)\n",
    "    return demoSignal"
   ]
  },
  {
   "cell_type": "code",
   "execution_count": 9,
   "metadata": {},
   "outputs": [
    {
     "name": "stdout",
     "output_type": "stream",
     "text": [
      "用户1的误比特率： [0.09       0.08       0.05333333 0.02333333 0.00666667 0.00333333]\n",
      "用户2的误比特率： [0.13       0.06666667 0.05333333 0.01       0.01       0.        ]\n",
      "用户3的误比特率： [0.15666667 0.08333333 0.07       0.06       0.02       0.        ]\n"
     ]
    },
    {
     "data": {
      "image/png": "[encoded data removed]",
      "text/plain": [
       "<Figure size 432x288 with 1 Axes>"
      ]
     },
     "metadata": {
      "needs_background": "light"
     },
     "output_type": "display_data"
    }
   ],
   "source": [
    "dataRate=1000\n",
    "chipRate=31*dataRate\n",
    "fc=chipRate*2\n",
    "fs=fc*8\n",
    "N=300\n",
    "c=31\n",
    "b1=[1,0,0,1,0,1]\n",
    "b2=[1,1,0,1,1,1]\n",
    "b3=[1,1,1,1,0,1]\n",
    "snr=np.array([])\n",
    "for i in range(-20,-8,2):\n",
    "    snr=np.insert(snr,len(snr),i)\n",
    "#print(snr)\n",
    "err_bit1=np.array([])\n",
    "err_bit2=np.array([])\n",
    "err_bit3=np.array([])\n",
    "for j in range(len(snr)):\n",
    "    signal1=information(N)\n",
    "    signal2=information(N)\n",
    "    signal3=information(N)\n",
    "    c1=genMseq(b1)\n",
    "    c2=genMseq(b2)\n",
    "    c3=genMseq(b3)\n",
    "    dssignal1=dsss(signal1,c1)\n",
    "    dssignal2=dsss(signal2,c2)\n",
    "    dssignal3=dsss(signal3,c3)\n",
    "    modusignal1=modu(dssignal1,chipRate,fc,fs)\n",
    "    modusignal2=modu(dssignal2,chipRate,fc,fs)\n",
    "    modusignal3=modu(dssignal3,chipRate,fc,fs)\n",
    "    mixsignal=modusignal1+modusignal2+modusignal3\n",
    "    receivesignal=awgn(mixsignal,snr[j])\n",
    "    dedssignal1=dedsss(receivesignal,c1,chipRate,fs)\n",
    "    demoSignal1=demodu(dedssignal1,dataRate,fc,fs)\n",
    "    dedssignal2=dedsss(receivesignal,c2,chipRate,fs)\n",
    "    demoSignal2=demodu(dedssignal2,dataRate,fc,fs)\n",
    "    dedssignal3=dedsss(receivesignal,c3,chipRate,fs)\n",
    "    demoSignal3=demodu(dedssignal3,dataRate,fc,fs)\n",
    "    q=0\n",
    "    for i in range(len(signal1)):\n",
    "        if demoSignal1[i]!=signal1[i]:\n",
    "            q=q+1\n",
    "    err_bit1=np.insert(err_bit1,j,q/N)\n",
    "    p=0\n",
    "    for i in range(len(signal2)):\n",
    "        if demoSignal2[i]!=signal2[i]:\n",
    "            p=p+1\n",
    "    err_bit2=np.insert(err_bit2,j,p/N)\n",
    "    s=0\n",
    "    for i in range(len(signal3)):\n",
    "        if demoSignal3[i]!=signal3[i]:\n",
    "            s=s+1\n",
    "    err_bit3=np.insert(err_bit3,j,s/N)\n",
    "print(\"用户1的误比特率：\",err_bit1)\n",
    "#print(\"发射信号:\",signal1)\n",
    "#print(\"解调信号:\",demoSignal1)\n",
    "print(\"用户2的误比特率：\",err_bit2)\n",
    "#print(\"发射信号:\",signal2)\n",
    "#print(\"解调信号:\",demoSignal3)\n",
    "print(\"用户3的误比特率：\",err_bit3)\n",
    "#print(\"发射信号:\",signal3)\n",
    "#print(\"解调信号:\",demoSignal3)\n",
    "plt.plot(snr,err_bit1)\n",
    "plt.plot(snr,err_bit2)\n",
    "plt.plot(snr,err_bit3)\n",
    "plt.grid()\n",
    "plt.legend(\"123\",loc='upper right')\n",
    "plt.xlabel('SNR')\n",
    "plt.ylabel('BER')\n",
    "plt.title('SNR-BER')\n",
    "plt.show()"
   ]
  },
  {
   "cell_type": "code",
   "execution_count": null,
   "metadata": {},
   "outputs": [],
   "source": []
  }
 ],
 "metadata": {
  "kernelspec": {
   "display_name": "Python 3",
   "language": "python",
   "name": "python3"
  },
  "language_info": {
   "codemirror_mode": {
    "name": "ipython",
    "version": 3
   },
   "file_extension": ".py",
   "mimetype": "text/x-python",
   "name": "python",
   "nbconvert_exporter": "python",
   "pygments_lexer": "ipython3",
   "version": "3.7.6"
  }
 },
 "nbformat": 4,
 "nbformat_minor": 4
}
